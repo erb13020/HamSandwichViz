{
 "cells": [
  {
   "cell_type": "code",
   "execution_count": 1,
   "metadata": {},
   "outputs": [],
   "source": [
    "%matplotlib tk\n",
    "import sys\n",
    "sys.path.append('.')\n",
    "import matplotlib.pyplot as plt\n",
    "from HamSandwich.Cuts import LinearPlanarCut\n",
    "from HamSandwich.IOUtils import HamInstance, check_save"
   ]
  },
  {
   "cell_type": "code",
   "execution_count": 6,
   "metadata": {},
   "outputs": [
    {
     "name": "stdout",
     "output_type": "stream",
     "text": [
      "You have not provided a point file. Do you want to input points manually [i] or use random points [r]? r\n",
      "How many red points? 3\n",
      "How many blue points? 3\n"
     ]
    }
   ],
   "source": [
    "point_file = None\n",
    "NewCut = HamInstance(point_file,1)\n",
    "NewCut.show_points()"
   ]
  },
  {
   "cell_type": "code",
   "execution_count": 4,
   "metadata": {},
   "outputs": [],
   "source": [
    "LPC = LinearPlanarCut(0.5)"
   ]
  },
  {
   "cell_type": "code",
   "execution_count": 3,
   "metadata": {},
   "outputs": [
    {
     "name": "stdout",
     "output_type": "stream",
     "text": [
      "Compute the dual line for each point (a,b) as y = ax - b\n",
      "Do a binary search, starting with the full interval\n",
      "Check the left half of the interval...\n",
      "This interval has the odd intersection property.\n",
      "Check the right half of the interval...\n",
      "This interval does not have the odd intersection property.\n",
      "Iterate on the left half...\n",
      "Check the left half of the interval...\n",
      "This interval does not have the odd intersection property.\n",
      "Check the right half of the interval...\n",
      "This interval has the odd intersection property.\n",
      "Iterate on the right half...\n",
      "Check the left half of the interval...\n",
      "This interval does not have the odd intersection property.\n",
      "Check the right half of the interval...\n",
      "This interval has the odd intersection property.\n",
      "Iterate on the right half...\n",
      "Check the left half of the interval...\n",
      "This interval does not have the odd intersection property.\n",
      "Check the right half of the interval...\n",
      "This interval has the odd intersection property.\n",
      "Iterate on the right half...\n",
      "Check the left half of the interval...\n",
      "This interval does not have the odd intersection property.\n",
      "Check the right half of the interval...\n",
      "This interval has the odd intersection property.\n",
      "Iterate on the right half...\n",
      "Compute the Cut...\n",
      "The median levels intersect at (0.6193315738598473,4.219674554695662)\n",
      "Press Enter to View the Ham Sandwich Cut\n"
     ]
    }
   ],
   "source": [
    "LPC.teach(NewCut)"
   ]
  },
  {
   "cell_type": "code",
   "execution_count": 5,
   "metadata": {
    "scrolled": true
   },
   "outputs": [
    {
     "name": "stdout",
     "output_type": "stream",
     "text": [
      "The median levels intersect at (0.48869095950867364,-2.491985309867226), (1.4534744093853669,-2.282392310698887), (2.959265358034761,-3.518187164398677)\n",
      "Press Enter to View the Ham Sandwich Cut\n"
     ]
    }
   ],
   "source": [
    "LPC.all_ham_cuts(NewCut)"
   ]
  },
  {
   "cell_type": "code",
   "execution_count": 5,
   "metadata": {},
   "outputs": [
    {
     "name": "stdout",
     "output_type": "stream",
     "text": [
      "Do you want to save this point set? [y] [n] y\n",
      "In what file? pointsets/verylarge.txt\n"
     ]
    }
   ],
   "source": [
    "check_save(NewCut)"
   ]
  }
 ],
 "metadata": {
  "kernelspec": {
   "display_name": "Python 3",
   "language": "python",
   "name": "python3"
  },
  "language_info": {
   "codemirror_mode": {
    "name": "ipython",
    "version": 3
   },
   "file_extension": ".py",
   "mimetype": "text/x-python",
   "name": "python",
   "nbconvert_exporter": "python",
   "pygments_lexer": "ipython3",
   "version": "3.6.7"
  }
 },
 "nbformat": 4,
 "nbformat_minor": 2
}
