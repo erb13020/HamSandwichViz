{
 "cells": [
  {
   "cell_type": "code",
   "execution_count": 1,
   "metadata": {},
   "outputs": [],
   "source": [
    "%matplotlib tk\n",
    "import sys\n",
    "sys.path.append('.')\n",
    "import matplotlib.pyplot as plt\n",
    "from HamSandwich.Cuts import LinearPlanarCut\n",
    "from HamSandwich.IOUtils import HamInstance, check_save"
   ]
  },
  {
   "cell_type": "code",
   "execution_count": 2,
   "metadata": {},
   "outputs": [
    {
     "name": "stdout",
     "output_type": "stream",
     "text": [
      "You have not provided a point file. Do you want to input points manually [i] or use random points [r]? r\n",
      "How many red points? 3\n",
      "How many blue points? 3\n"
     ]
    }
   ],
   "source": [
    "point_file = None\n",
    "NewCut = HamInstance(point_file,1)\n",
    "LPC = LinearPlanarCut()"
   ]
  },
  {
   "cell_type": "code",
   "execution_count": 3,
   "metadata": {},
   "outputs": [],
   "source": [
    "LPC.teach(NewCut)"
   ]
  },
  {
   "cell_type": "code",
   "execution_count": null,
   "metadata": {
    "scrolled": false
   },
   "outputs": [],
   "source": [
    "LPC.median_intersection_cut(NewCut)\n",
    "check_save(NewCut)"
   ]
  }
 ],
 "metadata": {
  "kernelspec": {
   "display_name": "Python 3",
   "language": "python",
   "name": "python3"
  },
  "language_info": {
   "codemirror_mode": {
    "name": "ipython",
    "version": 3
   },
   "file_extension": ".py",
   "mimetype": "text/x-python",
   "name": "python",
   "nbconvert_exporter": "python",
   "pygments_lexer": "ipython3",
   "version": "3.6.7"
  }
 },
 "nbformat": 4,
 "nbformat_minor": 2
}
